{
  "nbformat": 4,
  "nbformat_minor": 0,
  "metadata": {
    "colab": {
      "name": "Guessing Game.ipynb",
      "provenance": [],
      "authorship_tag": "ABX9TyPulhojs6LjJDK1IRm0gRWE"
    },
    "kernelspec": {
      "name": "python3",
      "display_name": "Python 3"
    }
  },
  "cells": [
    {
      "cell_type": "code",
      "metadata": {
        "id": "RLasgwvevJEM",
        "colab_type": "code",
        "colab": {
          "base_uri": "https://localhost:8080/",
          "height": 238
        },
        "outputId": "f9d4b5ca-1708-4f93-d55b-03025a00b2a6"
      },
      "source": [
        "import random\n",
        "Actual = int(random.randint(1,100)) \n",
        "print (Actual)\n",
        "print('Welcome to the guessing game , i will guess a random number between 1-100 and your goal is to guess that number')\n",
        "guess= int (input(\"enter your Guess: \")) \n",
        "previous = guess \n",
        "guess_count = int(1)\n",
        "while guess != Actual: \n",
        "    guess_count += 1\n",
        "    guess = int(input(\"Pick another number: \")) \n",
        "    if guess == Actual: \n",
        "       print (\"Wow, you've guessed Correctly this time , You have guessed it in %d times\" %(guess_count))\n",
        "       break \n",
        "    current = abs(guess - Actual)\n",
        "    prev = abs(previous - Actual)\n",
        "    if current <= prev:\n",
        "        print(' you are closer to target ')\n",
        "    if prev <= current:        \n",
        "        print(' you are far from the target ')\n",
        "    if guess <= 0:\n",
        "        print(\"Out of Bounds. Try again.\")\n",
        "    if guess > 100:\n",
        "        print(\"Out of Bounds. Try again.\")\n",
        "    previous = guess"
      ],
      "execution_count": 1,
      "outputs": [
        {
          "output_type": "stream",
          "text": [
            "13\n",
            "Welcome to the guessing game , i will guess a random number between 1-100 and your goal is to guess that number\n",
            "enter your Guess: 1\n",
            "Pick another number: 2\n",
            " you are closer to target \n",
            "Pick another number: 3\n",
            "Pick another number: 5\n",
            " you are closer to target \n",
            " you are closer to target \n",
            "Pick another number: 88\n",
            " you are far from the target \n",
            "Pick another number: 13\n",
            "Wow, you've guessed Correctly this time , You have guessed it in 6 times\n"
          ],
          "name": "stdout"
        }
      ]
    },
    {
      "cell_type": "code",
      "metadata": {
        "id": "nreez9SxvTJ6",
        "colab_type": "code",
        "colab": {}
      },
      "source": [
        ""
      ],
      "execution_count": 0,
      "outputs": []
    }
  ]
}