{
  "nbformat": 4,
  "nbformat_minor": 0,
  "metadata": {
    "colab": {
      "name": "Guessing Game.ipynb",
      "provenance": [],
      "authorship_tag": "ABX9TyPulhojs6LjJDK1IRm0gRWE"
    },
    "kernelspec": {
      "name": "python3",
      "display_name": "Python 3"
    }
  },
  "cells": [
    {
      "cell_type": "code",
      "metadata": {
        "id": "RLasgwvevJEM",
        "colab_type": "code",
        "colab": {}
      },
      "source": [
        "import random\n",
        "Actual = int(random.randint(1,100)) \n",
        "print('Welcome to the guessing game , i will guess a random number between 1-100 and your goal is to guess that number')\n",
        "guess= int (input(\"enter your Guess: \")) \n",
        "previous = guess \n",
        "guess_count = int(1)\n",
        "while guess != Actual: \n",
        "    guess_count += 1\n",
        "    guess = int(input(\"Pick another number: \")) \n",
        "    if guess == Actual: \n",
        "       print (\"Wow, you've guessed Correctly this time , You have guessed it in %d times\" %(guess_count))\n",
        "       break \n",
        "    current = abs(guess - Actual)\n",
        "    prev = abs(previous - Actual)\n",
        "    if current <= prev:\n",
        "        print(' you are closer to target ')\n",
        "    if prev <= current:        \n",
        "        print(' you are far from the target ')\n",
        "    if guess <= 0:\n",
        "        print(\"Out of Bounds. Try again.\")\n",
        "    if guess > 100:\n",
        "        print(\"Out of Bounds. Try again.\")\n",
        "    previous = guess"
      ],
      "execution_count": 0,
      "outputs": []
    },
    {
      "cell_type": "code",
      "metadata": {
        "id": "nreez9SxvTJ6",
        "colab_type": "code",
        "colab": {}
      },
      "source": [
        ""
      ],
      "execution_count": 0,
      "outputs": []
    }
  ]
}
