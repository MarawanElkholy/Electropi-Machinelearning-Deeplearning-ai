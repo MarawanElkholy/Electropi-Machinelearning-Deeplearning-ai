{
  "nbformat": 4,
  "nbformat_minor": 0,
  "metadata": {
    "colab": {
      "name": "modified_find.ipynb",
      "provenance": [],
      "authorship_tag": "ABX9TyMEmHLzv4NrOYztBXTPb1u4"
    },
    "kernelspec": {
      "name": "python3",
      "display_name": "Python 3"
    }
  },
  "cells": [
    {
      "cell_type": "code",
      "metadata": {
        "id": "a9k8btC-52fL",
        "colab_type": "code",
        "colab": {}
      },
      "source": [
        "def mod_find(x,y):\n",
        "  z = [ i for i in range(len(x)) if x[i] == y ]\n",
        "  return z"
      ],
      "execution_count": 0,
      "outputs": []
    },
    {
      "cell_type": "code",
      "metadata": {
        "id": "0ylbPIGi57yN",
        "colab_type": "code",
        "colab": {}
      },
      "source": [
        ""
      ],
      "execution_count": 0,
      "outputs": []
    }
  ]
}